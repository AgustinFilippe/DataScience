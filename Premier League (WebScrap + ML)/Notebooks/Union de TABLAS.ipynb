{
 "cells": [
  {
   "cell_type": "code",
   "execution_count": 1,
   "id": "716b4ead-51d2-483e-afdb-f1cebc2a22f8",
   "metadata": {},
   "outputs": [
    {
     "name": "stdout",
     "output_type": "stream",
     "text": [
      "Archivos combinados con éxito y columna 'Año' agregada!\n"
     ]
    }
   ],
   "source": [
    "import pandas as pd\n",
    "import glob\n",
    "\n",
    "archivos_csv = glob.glob(\"Goleadores_Premier_*.csv\")\n",
    "\n",
    "dataframes = []\n",
    "\n",
    "\n",
    "for archivo in archivos_csv:\n",
    "    año = archivo.split(\"_\")[-1].split(\".\")[0]\n",
    "    df = pd.read_csv(archivo)\n",
    "    df['Año'] = int(año)\n",
    "    dataframes.append(df)\n",
    "df_completo = pd.concat(dataframes, ignore_index=True)\n",
    "df_completo.to_csv(\"Premier_League_2024_2014_con_año.csv\", index=False)\n",
    "\n",
    "print(\"Archivos combinados con éxito y columna 'Año' agregada!\")\n"
   ]
  },
  {
   "cell_type": "code",
   "execution_count": null,
   "id": "741845f8-125d-47f5-8c9f-74b972b0a5ce",
   "metadata": {},
   "outputs": [],
   "source": []
  }
 ],
 "metadata": {
  "kernelspec": {
   "display_name": "Python 3 (ipykernel)",
   "language": "python",
   "name": "python3"
  },
  "language_info": {
   "codemirror_mode": {
    "name": "ipython",
    "version": 3
   },
   "file_extension": ".py",
   "mimetype": "text/x-python",
   "name": "python",
   "nbconvert_exporter": "python",
   "pygments_lexer": "ipython3",
   "version": "3.12.10"
  }
 },
 "nbformat": 4,
 "nbformat_minor": 5
}
