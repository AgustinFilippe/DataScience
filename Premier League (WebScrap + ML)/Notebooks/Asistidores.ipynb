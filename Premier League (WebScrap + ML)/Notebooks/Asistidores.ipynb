{
 "cells": [
  {
   "cell_type": "code",
   "execution_count": 1,
   "id": "0d6f61cf-1a83-4c64-b18c-5387d6a4dbf8",
   "metadata": {},
   "outputs": [],
   "source": [
    "import pandas as pd\n",
    "from bs4 import BeautifulSoup\n",
    "from selenium import webdriver\n",
    "from selenium.webdriver.chrome.options import Options\n",
    "from selenium.webdriver.common.by import By\n",
    "from selenium.webdriver.support.ui import WebDriverWait\n",
    "from selenium.webdriver.support import expected_conditions as EC\n",
    "from selenium.webdriver.chrome.service import Service\n",
    "from webdriver_manager.chrome import ChromeDriverManager"
   ]
  },
  {
   "cell_type": "code",
   "execution_count": 2,
   "id": "b78e9298-0a17-4cc5-b4b3-b28d7a18ca2d",
   "metadata": {},
   "outputs": [],
   "source": [
    "url = 'https://www.espn.com.co/futbol/estadisticas/_/liga/ENG.1/temporada/2024/vista/anotaciones'"
   ]
  },
  {
   "cell_type": "code",
   "execution_count": 74,
   "id": "120b3721-1725-42a9-b535-c7f797102bd1",
   "metadata": {},
   "outputs": [
    {
     "name": "stdin",
     "output_type": "stream",
     "text": [
      "Marcar al completar captcha y apretar en posiciones: \n"
     ]
    },
    {
     "name": "stdout",
     "output_type": "stream",
     "text": [
      "Éxito\n",
      "   Posición              Jugador                Equipo Partidos Asistencias\n",
      "0         1        Cesc Fàbregas               Chelsea       34          18\n",
      "1         2        Santi Cazorla               Arsenal       37          11\n",
      "2         3          Chris Brunt  West Bromwich Albion       34          10\n",
      "3               Gylfi Sigurdsson          Swansea City       32          10\n",
      "4                 Ángel Di María     Manchester United       27          10\n",
      "5         6          Eden Hazard               Chelsea       38           9\n",
      "6               Jordan Henderson             Liverpool       37           9\n",
      "7                Leighton Baines               Everton       31           9\n",
      "8         9      Stewart Downing       West Ham United       37           8\n",
      "9                 Alexis Sánchez               Arsenal       35           8\n",
      "10                   Jesús Navas       Manchester City       35           8\n",
      "11                   Jamie Vardy        Leicester City       34           8\n",
      "12                 Sergio Agüero       Manchester City       33           8\n",
      "13                         Oscar               Chelsea       28           8\n",
      "14                 Matt Phillips   Queens Park Rangers       25           8\n",
      "15       16       Jason Puncheon        Crystal Palace       37           7\n",
      "16               Raheem Sterling             Liverpool       35           7\n",
      "17                   Erik Lamela     Tottenham Hotspur       33           7\n",
      "18                   David Silva       Manchester City       32           7\n",
      "19                  James Milner       Manchester City       32           7\n",
      "20                   Dusan Tadic           Southampton       31           7\n",
      "21             Jefferson Montero          Swansea City       30           7\n",
      "22       23        Daryl Janmaat      Newcastle United       37           6\n",
      "23                  Jack Colback      Newcastle United       35           6\n",
      "24               Yannick Bolasie        Crystal Palace       34           6\n",
      "25                  Aaron Ramsey               Arsenal       29           6\n",
      "26             James Ward-Prowse           Southampton       25           6\n",
      "27                   Samir Nasri       Manchester City       24           6\n",
      "28       29     Ahmed Elmohamady             Hull City       38           5\n",
      "29            Branislav Ivanovic               Chelsea       38           5\n",
      "30                 Romelu Lukaku               Everton       36           5\n",
      "31                Charlie Austin   Queens Park Rangers       35           5\n",
      "32             Philippe Coutinho             Liverpool       35           5\n",
      "33                  Nacer Chadli     Tottenham Hotspur       35           5\n",
      "34                  Wayne Rooney     Manchester United       33           5\n",
      "35                    Shane Long           Southampton       32           5\n",
      "36                 Jonjo Shelvey          Swansea City       31           5\n",
      "37              Marko Arnautovic            Stoke City       29           5\n",
      "38           Patrick van Aanholt            Sunderland       28           5\n",
      "39                  Ashley Young     Manchester United       26           5\n",
      "40                    Mesut Özil               Arsenal       22           5\n",
      "41                Leandro Bacuna           Aston Villa       19           5\n",
      "42       43      Aaron Cresswell       West Ham United       38           4\n",
      "43               Kieran Trippier               Burnley       38           4\n",
      "44                    Danny Ings               Burnley       35           4\n",
      "45                 Craig Gardner  West Bromwich Albion       35           4\n",
      "46                    Harry Kane     Tottenham Hotspur       34           4\n",
      "47                     Juan Mata     Manchester United       33           4\n",
      "48              Jonathan Walters            Stoke City       32           4\n",
      "49                    Ryan Mason     Tottenham Hotspur       31           4\n"
     ]
    }
   ],
   "source": [
    "chrome_options = Options()\n",
    "chrome_options.add_argument('--start-maximized')\n",
    "chrome_options.add_argument('--disable-blink-features=AutomationControlled')\n",
    "chrome_options.add_experimental_option('excludeSwitches', ['enable-automation'])\n",
    "chrome_options.add_experimental_option('useAutomationExtension', False)\n",
    "\n",
    "driver = webdriver.Chrome(service=Service(ChromeDriverManager().install()))\n",
    "driver.get(url)\n",
    "\n",
    "input('Marcar al completar captcha y apretar en posiciones:')\n",
    "\n",
    "try:\n",
    "    div_data = WebDriverWait(driver, 15).until(\n",
    "        EC.visibility_of_element_located((By.CLASS_NAME, \"ResponsiveTable.top-assists-table\"))\n",
    "    )\n",
    "    print('Éxito')\n",
    "\n",
    "    tbody = div_data.find_element(By.CLASS_NAME, \"Table__TBODY\")\n",
    "    \n",
    "    rows = tbody.find_elements(By.TAG_NAME, \"tr\")\n",
    "    \n",
    "    data = []\n",
    "    \n",
    "    for row in rows:\n",
    "        columns = row.find_elements(By.TAG_NAME, \"td\")\n",
    "        row_data = [col.text for col in columns]\n",
    "        if row_data:\n",
    "            data.append(row_data)\n",
    "\n",
    "    df = pd.DataFrame(data, columns=[\"Posición\", \"Jugador\", \"Equipo\", \"Partidos\", \"Asistencias\"])\n",
    "\n",
    "    print(df)\n",
    "\n",
    "except Exception as e:\n",
    "    print(f\"Error: {e}\")\n",
    "\n",
    "df.to_csv('Asistidores_Premier_2014.csv')\n",
    "\n"
   ]
  },
  {
   "cell_type": "code",
   "execution_count": null,
   "id": "f4611bc9-321c-4936-8dc3-3566e1ba2037",
   "metadata": {},
   "outputs": [],
   "source": []
  }
 ],
 "metadata": {
  "kernelspec": {
   "display_name": "Python 3 (ipykernel)",
   "language": "python",
   "name": "python3"
  },
  "language_info": {
   "codemirror_mode": {
    "name": "ipython",
    "version": 3
   },
   "file_extension": ".py",
   "mimetype": "text/x-python",
   "name": "python",
   "nbconvert_exporter": "python",
   "pygments_lexer": "ipython3",
   "version": "3.12.10"
  }
 },
 "nbformat": 4,
 "nbformat_minor": 5
}
