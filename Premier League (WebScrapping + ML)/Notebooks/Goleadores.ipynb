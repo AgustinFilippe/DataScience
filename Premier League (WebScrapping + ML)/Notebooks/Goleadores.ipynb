{
 "cells": [
  {
   "cell_type": "markdown",
   "id": "c160d4d8-05fe-4913-8872-60a5ac1e6fe7",
   "metadata": {},
   "source": [
    "#### import pandas as pd\n",
    "from bs4 import BeautifulSoup\n",
    "from selenium import webdriver\n",
    "from selenium.webdriver.chrome.options import Options\n",
    "from selenium.webdriver.common.by import By\n",
    "from selenium.webdriver.support.ui import WebDriverWait\n",
    "from selenium.webdriver.support import expected_conditions as EC\n",
    "from selenium.webdriver.chrome.service import Service\n",
    "from webdriver_manager.chrome import ChromeDriverManager"
   ]
  },
  {
   "cell_type": "code",
   "execution_count": 2,
   "id": "b78e9298-0a17-4cc5-b4b3-b28d7a18ca2d",
   "metadata": {},
   "outputs": [],
   "source": [
    "url = 'https://www.espn.com.co/futbol/estadisticas/_/liga/ENG.1/temporada/2024/vista/anotaciones'"
   ]
  },
  {
   "cell_type": "code",
   "execution_count": 19,
   "id": "120b3721-1725-42a9-b535-c7f797102bd1",
   "metadata": {},
   "outputs": [
    {
     "name": "stdin",
     "output_type": "stream",
     "text": [
      "Marcar al completar captcha y apretar en posiciones: \n"
     ]
    },
    {
     "name": "stdout",
     "output_type": "stream",
     "text": [
      "   Posicion             Jugador                Equipo Partidos Goles\n",
      "0         1       Sergio Agüero       Manchester City       33    26\n",
      "1         2          Harry Kane     Tottenham Hotspur       34    21\n",
      "2         3         Diego Costa               Chelsea       26    20\n",
      "3         4      Charlie Austin   Queens Park Rangers       35    18\n",
      "4         5      Alexis Sánchez               Arsenal       35    16\n",
      "5         6         Eden Hazard               Chelsea       38    14\n",
      "6                Saido Berahino  West Bromwich Albion       38    14\n",
      "7                Olivier Giroud               Arsenal       27    14\n",
      "8         9   Christian Benteke           Aston Villa       29    13\n",
      "9        10      Graziano Pellè           Southampton       38    12\n",
      "10                 Wayne Rooney     Manchester United       33    12\n",
      "11                  David Silva       Manchester City       32    12\n",
      "12       13      Leonardo Ulloa        Leicester City       37    11\n",
      "13                   Danny Ings               Burnley       35    11\n",
      "14                 Nacer Chadli     Tottenham Hotspur       35    11\n",
      "15             Mame Biram Diouf            Stoke City       34    11\n",
      "16                Wilfried Bony       Manchester City       30    11\n",
      "17                 Papiss Cissé      Newcastle United       22    11\n",
      "18       19   Christian Eriksen     Tottenham Hotspur       38    10\n",
      "19                Romelu Lukaku               Everton       36    10\n",
      "20                   Sadio Mané           Southampton       30    10\n",
      "21                   Yaya Touré       Manchester City       29    10\n",
      "22             Robin van Persie     Manchester United       27    10\n",
      "23                 Diafra Sakho       West Ham United       23    10\n",
      "24       25           Juan Mata     Manchester United       33     9\n",
      "25               Steven Gerrard             Liverpool       29     9\n",
      "26       27       Ki Sung-Yueng          Swansea City       33     8\n",
      "27                 Peter Crouch            Stoke City       33     8\n",
      "28             Jonathan Walters            Stoke City       32     8\n",
      "29               Nikica Jelavic             Hull City       27     8\n",
      "30       31       Santi Cazorla               Arsenal       37     7\n",
      "31                  Ayoze Pérez      Newcastle United       36     7\n",
      "32              Raheem Sterling             Liverpool       35     7\n",
      "33             Gylfi Sigurdsson          Swansea City       32     7\n",
      "34              Bafetimbi Gomis          Swansea City       31     7\n",
      "35                 Charlie Adam            Stoke City       29     7\n",
      "36               Kevin Mirallas               Everton       29     7\n",
      "37                    Loïc Rémy               Chelsea       21     7\n",
      "38                 Glenn Murray        Crystal Palace       17     7\n",
      "39       40     Stewart Downing       West Ham United       37     6\n",
      "40             Jordan Henderson             Liverpool       37     6\n",
      "41               Jason Puncheon        Crystal Palace       37     6\n",
      "42           Gabriel Agbonlahor           Aston Villa       35     6\n",
      "43                Frank Lampard       Manchester City       32     6\n",
      "44              Steven Naismith               Everton       31     6\n",
      "45                    Leroy Fer   Queens Park Rangers       29     6\n",
      "46                 Aaron Ramsey               Arsenal       29     6\n",
      "47                        Oscar               Chelsea       28     6\n",
      "48            Marouane Fellaini     Manchester United       27     6\n",
      "49                Ander Herrera     Manchester United       26     6\n"
     ]
    }
   ],
   "source": [
    "from selenium import webdriver\n",
    "from selenium.webdriver.common.by import By\n",
    "from selenium.webdriver.chrome.service import Service\n",
    "from webdriver_manager.chrome import ChromeDriverManager\n",
    "from selenium.webdriver.chrome.options import Options\n",
    "from selenium.webdriver.support.ui import WebDriverWait\n",
    "from selenium.webdriver.support import expected_conditions as EC\n",
    "import pandas as pd\n",
    "\n",
    "# Configuración del navegador\n",
    "chrome_options = Options()\n",
    "chrome_options.add_argument('--start-maximized')\n",
    "chrome_options.add_argument('--disable-blink-features=AutomationControlled')\n",
    "chrome_options.add_experimental_option('excludeSwitches', ['enable-automation'])\n",
    "chrome_options.add_experimental_option('useAutomationExtension', False)\n",
    "\n",
    "# Inicializar el driver\n",
    "driver = webdriver.Chrome(service=Service(ChromeDriverManager().install()), options=chrome_options)\n",
    "driver.get(url)\n",
    "\n",
    "input('Marcar al completar captcha y apretar en posiciones:')\n",
    "\n",
    "# Esperar a que la tabla se cargue completamente\n",
    "try:\n",
    "    # Esperar que la tabla con clase 'ResponsiveTable top-score-table' sea visible\n",
    "    div_data = WebDriverWait(driver, 15).until(\n",
    "        EC.visibility_of_element_located((By.CLASS_NAME, \"ResponsiveTable.top-score-table\"))\n",
    "    )\n",
    "\n",
    "    # Buscar el tbody dentro de la tabla\n",
    "    tbody = div_data.find_element(By.CLASS_NAME, \"Table__TBODY\")\n",
    "\n",
    "    # Obtener todas las filas (tr)\n",
    "    rows = tbody.find_elements(By.TAG_NAME, \"tr\")\n",
    "    \n",
    "    # Lista para almacenar los datos\n",
    "    data = []\n",
    "\n",
    "    # Iterar sobre cada fila\n",
    "    for row in rows:\n",
    "        # Obtener todas las celdas (td) de la fila\n",
    "        columns = row.find_elements(By.TAG_NAME, \"td\")\n",
    "        row_data = [col.text for col in columns]\n",
    "        if row_data:\n",
    "            data.append(row_data)\n",
    "\n",
    "    # Crear un DataFrame con los datos extraídos\n",
    "    df = pd.DataFrame(data, columns=[\"Posicion\", \"Jugador\", \"Equipo\", \"Partidos\", \"Goles\"])\n",
    "\n",
    "    # Mostrar el DataFrame\n",
    "    print(df)\n",
    "\n",
    "except Exception as e:\n",
    "    print(f\"Error: {e}\")\n",
    "finally:\n",
    "    driver.quit()"
   ]
  },
  {
   "cell_type": "code",
   "execution_count": 20,
   "id": "c9b538c4-61b8-4bb7-9ffb-99728da0221e",
   "metadata": {},
   "outputs": [],
   "source": [
    "df.to_csv('Goleadores_Premier_2014.csv')"
   ]
  },
  {
   "cell_type": "code",
   "execution_count": null,
   "id": "1b735bf2-2df5-42f6-a614-dd0982c582ce",
   "metadata": {},
   "outputs": [],
   "source": []
  }
 ],
 "metadata": {
  "kernelspec": {
   "display_name": "Python 3 (ipykernel)",
   "language": "python",
   "name": "python3"
  },
  "language_info": {
   "codemirror_mode": {
    "name": "ipython",
    "version": 3
   },
   "file_extension": ".py",
   "mimetype": "text/x-python",
   "name": "python",
   "nbconvert_exporter": "python",
   "pygments_lexer": "ipython3",
   "version": "3.12.10"
  }
 },
 "nbformat": 4,
 "nbformat_minor": 5
}
