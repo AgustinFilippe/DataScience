{
 "cells": [
  {
   "cell_type": "code",
   "execution_count": 1,
   "id": "956e7077-8509-42b5-b255-54c93e0c8df3",
   "metadata": {},
   "outputs": [],
   "source": [
    "import pandas as pd\n",
    "from bs4 import BeautifulSoup\n",
    "from selenium import webdriver\n",
    "from selenium.webdriver.chrome.options import Options\n",
    "from selenium.webdriver.common.by import By\n",
    "from selenium.webdriver.support.ui import WebDriverWait\n",
    "from selenium.webdriver.support import expected_conditions as EC\n",
    "from selenium.webdriver.chrome.service import Service\n",
    "from webdriver_manager.chrome import ChromeDriverManager"
   ]
  },
  {
   "cell_type": "code",
   "execution_count": 2,
   "id": "4a37c33e-469f-4ce2-b9da-647d48ac14d5",
   "metadata": {},
   "outputs": [],
   "source": [
    "url = \"https://www.google.com/search?q=premier+league&oq=premier&gs_lcrp=EgZjaHJvbWUqEwgAEEUYJxg7GEYY_QEYgAQYigUyEwgAEEUYJxg7GEYY_QEYgAQYigUyEggBEC4YQxiDARixAxiABBiKBTIMCAIQABhDGIAEGIoFMgwIAxAAGEMYgAQYigUyEggEEC4YQxjHARjRAxiABBiKBTIGCAUQRRg8MgYIBhBFGDwyBggHEEUYPdIBBzY3M2owajeoAgCwAgA&sourceid=chrome&ie=UTF-8#wptab=si:APYL9bvPeBaB0Vw52DUqhQ8Vw1sW6CMq4_nXzcLxsWqAwEo-PsLDHqGjy9qzj61bl0EOyfCudg9Aeo8zjWcqeTo4JistLo2U9Zq7OztLuvhIO9nsIrhEBgCg8na8mW65-MX-znk6U9wWjeS73LIkI2_sIXhdOZNTnYq6n_VrA6Sg67rT2LMF-nk1eRuFwRxwi2wrYDwJ0-YV\""
   ]
  },
  {
   "cell_type": "code",
   "execution_count": 22,
   "id": "8b7a6d70-d3f7-4513-9194-fbaf200b78ff",
   "metadata": {},
   "outputs": [
    {
     "name": "stdin",
     "output_type": "stream",
     "text": [
      "Marcar al completar captcha y apretar en posiciones: \n"
     ]
    },
    {
     "name": "stdout",
     "output_type": "stream",
     "text": [
      "Exito\n"
     ]
    }
   ],
   "source": [
    "chrome_options = Options()\n",
    "chrome_options.add_argument('--start-maximized')\n",
    "chrome_options.add_argument('--disable-blink-features=AutomationControlled')\n",
    "chrome_options.add_experimental_option('excludeScwitches', ['enable-automation'])\n",
    "chrome_options.add_experimental_option('useAutomationExtension', False)\n",
    "\n",
    "\n",
    "driver = webdriver.Chrome(service = Service(ChromeDriverManager().install()))\n",
    "driver.get(url)\n",
    "\n",
    "input('Marcar al completar captcha y apretar en posiciones:')\n",
    "\n",
    "try:\n",
    "    div_data = WebDriverWait(driver, 15).until(\n",
    "        EC.visibility_of_element_located((By.CLASS_NAME, \"sWfpOe\"))\n",
    "    )\n",
    "    print('Exito')\n",
    "    \n",
    "except Exception as e:\n",
    "    print(f\"Error: {e}\")\n",
    "\n",
    "text = div_data.text\n",
    "lines = text.split('\\n')\n",
    "columnas_principales = ['Rank', 'Club', 'PJ', 'G', 'E', 'P', 'GF', 'GC', 'DG', 'Pts', 'Ultimos5_1', 'Ultimos5_2', 'Ultimos5_3', 'Ultimos5_4', 'Ultimos5_5']\n",
    "start_idx =  lines.index('Últimos 5 partidos') + 1\n",
    "data = lines[start_idx:]\n",
    "rows = []\n",
    "i = 0\n",
    "while i < len(data):\n",
    "    if data[i].isdigit():\n",
    "        fila = data[i:i+15]\n",
    "        if len(fila) == 15:\n",
    "            rows.append(fila)\n",
    "        i += 15\n",
    "    else:\n",
    "        i += 1\n",
    "\n",
    "df = pd.DataFrame(rows, columns=columnas_principales)\n",
    "df_2014 = df\n",
    "df_2014.to_csv('Premier_League_2014.csv')"
   ]
  },
  {
   "cell_type": "code",
   "execution_count": null,
   "id": "f6515521-4f6d-47e1-9112-ab85acb92a54",
   "metadata": {},
   "outputs": [],
   "source": []
  }
 ],
 "metadata": {
  "kernelspec": {
   "display_name": "Python 3 (ipykernel)",
   "language": "python",
   "name": "python3"
  },
  "language_info": {
   "codemirror_mode": {
    "name": "ipython",
    "version": 3
   },
   "file_extension": ".py",
   "mimetype": "text/x-python",
   "name": "python",
   "nbconvert_exporter": "python",
   "pygments_lexer": "ipython3",
   "version": "3.12.10"
  }
 },
 "nbformat": 4,
 "nbformat_minor": 5
}
