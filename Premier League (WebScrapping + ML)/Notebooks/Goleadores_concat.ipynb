{
 "cells": [
  {
   "cell_type": "code",
   "execution_count": 2,
   "id": "34e2a191-b1f2-4f04-a001-ed07e3eda2e1",
   "metadata": {},
   "outputs": [
    {
     "name": "stdout",
     "output_type": "stream",
     "text": [
      "Archivos combinados con éxito \n"
     ]
    }
   ],
   "source": [
    "import pandas as pd\n",
    "import glob\n",
    "\n",
    "archivos_csv = glob.glob(\"Goleadores_Premier_*.csv\")\n",
    "\n",
    "dataframes = []\n",
    "\n",
    "\n",
    "for archivo in archivos_csv:\n",
    "    año = archivo.split(\"_\")[-1].split(\".\")[0]\n",
    "    df = pd.read_csv(archivo)\n",
    "    dataframes.append(df)\n",
    "df_completo = pd.concat(dataframes, ignore_index=True)\n",
    "df_completo.to_csv(\"Goleadores_2024_2014.csv\", index=False)\n",
    "\n",
    "print(\"Archivos combinados con éxito \")\n"
   ]
  },
  {
   "cell_type": "code",
   "execution_count": null,
   "id": "7122b869-0dfb-4eb8-9cc2-e3077e177d9a",
   "metadata": {},
   "outputs": [],
   "source": []
  }
 ],
 "metadata": {
  "kernelspec": {
   "display_name": "Python 3 (ipykernel)",
   "language": "python",
   "name": "python3"
  },
  "language_info": {
   "codemirror_mode": {
    "name": "ipython",
    "version": 3
   },
   "file_extension": ".py",
   "mimetype": "text/x-python",
   "name": "python",
   "nbconvert_exporter": "python",
   "pygments_lexer": "ipython3",
   "version": "3.12.10"
  }
 },
 "nbformat": 4,
 "nbformat_minor": 5
}
